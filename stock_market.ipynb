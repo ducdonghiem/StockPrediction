{
 "cells": [
  {
   "cell_type": "code",
   "execution_count": 1,
   "id": "e42bbaf2",
   "metadata": {},
   "outputs": [],
   "source": [
    "import pandas as pd\n",
    "import numpy as np\n",
    "import seaborn as sns\n",
    "from tensorflow.keras import layers\n",
    "from tensorflow.keras.models import Sequential\n",
    "import math\n",
    "from sklearn.metrics import mean_squared_error\n",
    "from tensorflow.keras.callbacks import EarlyStopping\n",
    "import matplotlib.pyplot as plt\n",
    "\n",
    "# early_stopping = EarlyStopping(\n",
    "#     min_delta=1e-7, # minimium amount of change to count as an improvement\n",
    "#     patience=20, # how many epochs to wait before stopping\n",
    "#     restore_best_weights=True,\n",
    "# )"
   ]
  },
  {
   "cell_type": "code",
   "execution_count": 2,
   "id": "a5021ca8",
   "metadata": {},
   "outputs": [
    {
     "data": {
      "text/html": [
       "<div>\n",
       "<style scoped>\n",
       "    .dataframe tbody tr th:only-of-type {\n",
       "        vertical-align: middle;\n",
       "    }\n",
       "\n",
       "    .dataframe tbody tr th {\n",
       "        vertical-align: top;\n",
       "    }\n",
       "\n",
       "    .dataframe thead th {\n",
       "        text-align: right;\n",
       "    }\n",
       "</style>\n",
       "<table border=\"1\" class=\"dataframe\">\n",
       "  <thead>\n",
       "    <tr style=\"text-align: right;\">\n",
       "      <th></th>\n",
       "      <th>Date</th>\n",
       "      <th>High</th>\n",
       "      <th>Low</th>\n",
       "      <th>Open</th>\n",
       "      <th>Close</th>\n",
       "      <th>Volume</th>\n",
       "      <th>Adj Close</th>\n",
       "    </tr>\n",
       "  </thead>\n",
       "  <tbody>\n",
       "    <tr>\n",
       "      <th>0</th>\n",
       "      <td>2019-09-30</td>\n",
       "      <td>48.796001</td>\n",
       "      <td>47.222000</td>\n",
       "      <td>48.599998</td>\n",
       "      <td>48.174000</td>\n",
       "      <td>29399000.0</td>\n",
       "      <td>48.174000</td>\n",
       "    </tr>\n",
       "    <tr>\n",
       "      <th>1</th>\n",
       "      <td>2019-10-01</td>\n",
       "      <td>49.189999</td>\n",
       "      <td>47.826000</td>\n",
       "      <td>48.299999</td>\n",
       "      <td>48.938000</td>\n",
       "      <td>30813000.0</td>\n",
       "      <td>48.938000</td>\n",
       "    </tr>\n",
       "    <tr>\n",
       "      <th>2</th>\n",
       "      <td>2019-10-02</td>\n",
       "      <td>48.930000</td>\n",
       "      <td>47.886002</td>\n",
       "      <td>48.658001</td>\n",
       "      <td>48.625999</td>\n",
       "      <td>28157000.0</td>\n",
       "      <td>48.625999</td>\n",
       "    </tr>\n",
       "    <tr>\n",
       "      <th>3</th>\n",
       "      <td>2019-10-03</td>\n",
       "      <td>46.896000</td>\n",
       "      <td>44.855999</td>\n",
       "      <td>46.372002</td>\n",
       "      <td>46.605999</td>\n",
       "      <td>75422500.0</td>\n",
       "      <td>46.605999</td>\n",
       "    </tr>\n",
       "    <tr>\n",
       "      <th>4</th>\n",
       "      <td>2019-10-04</td>\n",
       "      <td>46.956001</td>\n",
       "      <td>45.613998</td>\n",
       "      <td>46.321999</td>\n",
       "      <td>46.285999</td>\n",
       "      <td>39975000.0</td>\n",
       "      <td>46.285999</td>\n",
       "    </tr>\n",
       "  </tbody>\n",
       "</table>\n",
       "</div>"
      ],
      "text/plain": [
       "         Date       High        Low       Open      Close      Volume  \\\n",
       "0  2019-09-30  48.796001  47.222000  48.599998  48.174000  29399000.0   \n",
       "1  2019-10-01  49.189999  47.826000  48.299999  48.938000  30813000.0   \n",
       "2  2019-10-02  48.930000  47.886002  48.658001  48.625999  28157000.0   \n",
       "3  2019-10-03  46.896000  44.855999  46.372002  46.605999  75422500.0   \n",
       "4  2019-10-04  46.956001  45.613998  46.321999  46.285999  39975000.0   \n",
       "\n",
       "   Adj Close  \n",
       "0  48.174000  \n",
       "1  48.938000  \n",
       "2  48.625999  \n",
       "3  46.605999  \n",
       "4  46.285999  "
      ]
     },
     "execution_count": 2,
     "metadata": {},
     "output_type": "execute_result"
    }
   ],
   "source": [
    "df = pd.read_csv('TSLA.csv')\n",
    "df.head()"
   ]
  },
  {
   "cell_type": "code",
   "execution_count": 3,
   "id": "c4da453c",
   "metadata": {},
   "outputs": [
    {
     "data": {
      "text/html": [
       "<div>\n",
       "<style scoped>\n",
       "    .dataframe tbody tr th:only-of-type {\n",
       "        vertical-align: middle;\n",
       "    }\n",
       "\n",
       "    .dataframe tbody tr th {\n",
       "        vertical-align: top;\n",
       "    }\n",
       "\n",
       "    .dataframe thead th {\n",
       "        text-align: right;\n",
       "    }\n",
       "</style>\n",
       "<table border=\"1\" class=\"dataframe\">\n",
       "  <thead>\n",
       "    <tr style=\"text-align: right;\">\n",
       "      <th></th>\n",
       "      <th>Date</th>\n",
       "      <th>High</th>\n",
       "      <th>Low</th>\n",
       "      <th>Open</th>\n",
       "      <th>Close</th>\n",
       "      <th>Volume</th>\n",
       "      <th>Adj Close</th>\n",
       "    </tr>\n",
       "  </thead>\n",
       "  <tbody>\n",
       "    <tr>\n",
       "      <th>634</th>\n",
       "      <td>2022-04-05</td>\n",
       "      <td>1152.869995</td>\n",
       "      <td>1087.300049</td>\n",
       "      <td>1136.300049</td>\n",
       "      <td>1091.260010</td>\n",
       "      <td>26691700.0</td>\n",
       "      <td>1091.260010</td>\n",
       "    </tr>\n",
       "    <tr>\n",
       "      <th>635</th>\n",
       "      <td>2022-04-06</td>\n",
       "      <td>1079.000000</td>\n",
       "      <td>1027.699951</td>\n",
       "      <td>1073.469971</td>\n",
       "      <td>1045.760010</td>\n",
       "      <td>29782800.0</td>\n",
       "      <td>1045.760010</td>\n",
       "    </tr>\n",
       "    <tr>\n",
       "      <th>636</th>\n",
       "      <td>2022-04-07</td>\n",
       "      <td>1076.589966</td>\n",
       "      <td>1021.539978</td>\n",
       "      <td>1052.390015</td>\n",
       "      <td>1057.260010</td>\n",
       "      <td>26482400.0</td>\n",
       "      <td>1057.260010</td>\n",
       "    </tr>\n",
       "    <tr>\n",
       "      <th>637</th>\n",
       "      <td>2022-04-08</td>\n",
       "      <td>1048.439941</td>\n",
       "      <td>1022.440002</td>\n",
       "      <td>1043.209961</td>\n",
       "      <td>1025.489990</td>\n",
       "      <td>18293300.0</td>\n",
       "      <td>1025.489990</td>\n",
       "    </tr>\n",
       "    <tr>\n",
       "      <th>638</th>\n",
       "      <td>2022-04-11</td>\n",
       "      <td>1008.469971</td>\n",
       "      <td>974.640015</td>\n",
       "      <td>980.400024</td>\n",
       "      <td>975.929993</td>\n",
       "      <td>19660500.0</td>\n",
       "      <td>975.929993</td>\n",
       "    </tr>\n",
       "  </tbody>\n",
       "</table>\n",
       "</div>"
      ],
      "text/plain": [
       "           Date         High          Low         Open        Close  \\\n",
       "634  2022-04-05  1152.869995  1087.300049  1136.300049  1091.260010   \n",
       "635  2022-04-06  1079.000000  1027.699951  1073.469971  1045.760010   \n",
       "636  2022-04-07  1076.589966  1021.539978  1052.390015  1057.260010   \n",
       "637  2022-04-08  1048.439941  1022.440002  1043.209961  1025.489990   \n",
       "638  2022-04-11  1008.469971   974.640015   980.400024   975.929993   \n",
       "\n",
       "         Volume    Adj Close  \n",
       "634  26691700.0  1091.260010  \n",
       "635  29782800.0  1045.760010  \n",
       "636  26482400.0  1057.260010  \n",
       "637  18293300.0  1025.489990  \n",
       "638  19660500.0   975.929993  "
      ]
     },
     "execution_count": 3,
     "metadata": {},
     "output_type": "execute_result"
    }
   ],
   "source": [
    "df.tail()"
   ]
  },
  {
   "cell_type": "code",
   "execution_count": 3,
   "id": "c1316f93",
   "metadata": {},
   "outputs": [
    {
     "data": {
      "text/plain": [
       "Text(0, 0.5, 'Closed price')"
      ]
     },
     "execution_count": 3,
     "metadata": {},
     "output_type": "execute_result"
    },
    {
     "data": {
      "image/png": "[encoded data removed]",
      "text/plain": [
       "<Figure size 432x288 with 1 Axes>"
      ]
     },
     "metadata": {
      "needs_background": "light"
     },
     "output_type": "display_data"
    }
   ],
   "source": [
    "plt.plot(df.index, df['Close'])\n",
    "plt.ylabel('Closed price')"
   ]
  },
  {
   "cell_type": "code",
   "execution_count": 5,
   "id": "b3094e9c",
   "metadata": {},
   "outputs": [],
   "source": [
    "df1 = df[:628]\n",
    "df2 = df[628:]"
   ]
  },
  {
   "cell_type": "code",
   "execution_count": 6,
   "id": "f445afc3",
   "metadata": {},
   "outputs": [
    {
     "data": {
      "text/plain": [
       "0        48.174000\n",
       "1        48.938000\n",
       "2        48.625999\n",
       "3        46.605999\n",
       "4        46.285999\n",
       "          ...     \n",
       "623     921.159973\n",
       "624     993.979980\n",
       "625     999.109985\n",
       "626    1013.919983\n",
       "627    1010.640015\n",
       "Name: Close, Length: 628, dtype: float64"
      ]
     },
     "execution_count": 6,
     "metadata": {},
     "output_type": "execute_result"
    }
   ],
   "source": [
    "df_use = df1['Close']\n",
    "df_use"
   ]
  },
  {
   "cell_type": "code",
   "execution_count": 7,
   "id": "269f3bf2",
   "metadata": {},
   "outputs": [],
   "source": [
    "from sklearn.preprocessing import MinMaxScaler\n",
    "scaler=MinMaxScaler(feature_range=(0,1))\n",
    "df_use=scaler.fit_transform(np.array(df_use).reshape(-1,1))"
   ]
  },
  {
   "cell_type": "code",
   "execution_count": 8,
   "id": "3f0512a8",
   "metadata": {},
   "outputs": [],
   "source": [
    "train_size = int(0.7 * len(df_use))\n",
    "train_data = df_use[:train_size, :]\n",
    "test_data = df_use[train_size:, :1]\n",
    "# train_data = np.array(train_data)\n",
    "# test_data = np.array(test_data)"
   ]
  },
  {
   "cell_type": "code",
   "execution_count": 10,
   "id": "fff8c31a",
   "metadata": {},
   "outputs": [
    {
     "data": {
      "text/plain": [
       "((439, 1), (189, 1))"
      ]
     },
     "execution_count": 10,
     "metadata": {},
     "output_type": "execute_result"
    }
   ],
   "source": [
    "train_data.shape, test_data.shape"
   ]
  },
  {
   "cell_type": "code",
   "execution_count": 11,
   "id": "d4b0c93d",
   "metadata": {},
   "outputs": [
    {
     "data": {
      "text/plain": [
       "array([[0.00224058],\n",
       "       [0.00197698]])"
      ]
     },
     "execution_count": 11,
     "metadata": {},
     "output_type": "execute_result"
    }
   ],
   "source": [
    "# print(train_data.shape)\n",
    "# print(test_data.shape)\n",
    "# print(train_data)\n",
    "train_data[1:3]"
   ]
  },
  {
   "cell_type": "code",
   "execution_count": 13,
   "id": "3bb04347",
   "metadata": {},
   "outputs": [],
   "source": [
    "def creat_xy(dataset, time_step):\n",
    "    x_data = []\n",
    "    y_data = []\n",
    "    for i in range(len(dataset) - time_step - 1):\n",
    "        x_data.append(dataset[i:i + time_step, 0])\n",
    "        y_data.append(dataset[i+time_step, 0])\n",
    "    return (np.array(x_data), np.array(y_data))"
   ]
  },
  {
   "cell_type": "code",
   "execution_count": 14,
   "id": "3861c704",
   "metadata": {},
   "outputs": [],
   "source": [
    "time_step = 30\n",
    "(x_train, y_train) = creat_xy(train_data, time_step)\n",
    "(x_test, y_test) = creat_xy(test_data, time_step)"
   ]
  },
  {
   "cell_type": "code",
   "execution_count": 15,
   "id": "11a1ebcd",
   "metadata": {},
   "outputs": [
    {
     "data": {
      "text/plain": [
       "(408, 30)"
      ]
     },
     "execution_count": 15,
     "metadata": {},
     "output_type": "execute_result"
    }
   ],
   "source": [
    "x_train.shape"
   ]
  },
  {
   "cell_type": "code",
   "execution_count": 16,
   "id": "c1d8236d",
   "metadata": {},
   "outputs": [
    {
     "data": {
      "text/plain": [
       "(408,)"
      ]
     },
     "execution_count": 16,
     "metadata": {},
     "output_type": "execute_result"
    }
   ],
   "source": [
    "y_train.shape"
   ]
  },
  {
   "cell_type": "code",
   "execution_count": 17,
   "id": "961ae281",
   "metadata": {},
   "outputs": [],
   "source": [
    "model = Sequential([\n",
    "    layers.LSTM(50, return_sequences = True, input_shape = (30, 1)),\n",
    "    layers.LSTM(50, return_sequences = True),\n",
    "    layers.LSTM(50),\n",
    "    layers.Dense(1)\n",
    "])\n",
    "model.compile(loss = 'mean_squared_error', optimizer = 'adam')"
   ]
  },
  {
   "cell_type": "code",
   "execution_count": 18,
   "id": "9b2db205",
   "metadata": {},
   "outputs": [
    {
     "name": "stdout",
     "output_type": "stream",
     "text": [
      "Model: \"sequential\"\n",
      "_________________________________________________________________\n",
      " Layer (type)                Output Shape              Param #   \n",
      "=================================================================\n",
      " lstm (LSTM)                 (None, 30, 50)            10400     \n",
      "                                                                 \n",
      " lstm_1 (LSTM)               (None, 30, 50)            20200     \n",
      "                                                                 \n",
      " lstm_2 (LSTM)               (None, 50)                20200     \n",
      "                                                                 \n",
      " dense (Dense)               (None, 1)                 51        \n",
      "                                                                 \n",
      "=================================================================\n",
      "Total params: 50,851\n",
      "Trainable params: 50,851\n",
      "Non-trainable params: 0\n",
      "_________________________________________________________________\n"
     ]
    }
   ],
   "source": [
    "model.summary()"
   ]
  },
  {
   "cell_type": "code",
   "execution_count": 19,
   "id": "052dc090",
   "metadata": {},
   "outputs": [
    {
     "name": "stdout",
     "output_type": "stream",
     "text": [
      "Epoch 1/100\n",
      "7/7 [==============================] - 13s 434ms/step - loss: 0.0510 - val_loss: 0.0392\n",
      "Epoch 2/100\n",
      "7/7 [==============================] - 1s 97ms/step - loss: 0.0120 - val_loss: 0.0623\n",
      "Epoch 3/100\n",
      "7/7 [==============================] - 1s 87ms/step - loss: 0.0085 - val_loss: 0.0068\n",
      "Epoch 4/100\n",
      "7/7 [==============================] - 1s 88ms/step - loss: 0.0049 - val_loss: 0.0072\n",
      "Epoch 5/100\n",
      "7/7 [==============================] - 1s 85ms/step - loss: 0.0035 - val_loss: 0.0134\n",
      "Epoch 6/100\n",
      "7/7 [==============================] - 1s 86ms/step - loss: 0.0025 - val_loss: 0.0066\n",
      "Epoch 7/100\n",
      "7/7 [==============================] - 1s 86ms/step - loss: 0.0024 - val_loss: 0.0092\n",
      "Epoch 8/100\n",
      "7/7 [==============================] - 1s 86ms/step - loss: 0.0022 - val_loss: 0.0067\n",
      "Epoch 9/100\n",
      "7/7 [==============================] - 1s 87ms/step - loss: 0.0021 - val_loss: 0.0076\n",
      "Epoch 10/100\n",
      "7/7 [==============================] - 1s 85ms/step - loss: 0.0020 - val_loss: 0.0072\n",
      "Epoch 11/100\n",
      "7/7 [==============================] - 1s 104ms/step - loss: 0.0020 - val_loss: 0.0080\n",
      "Epoch 12/100\n",
      "7/7 [==============================] - 1s 118ms/step - loss: 0.0021 - val_loss: 0.0070\n",
      "Epoch 13/100\n",
      "7/7 [==============================] - 1s 94ms/step - loss: 0.0020 - val_loss: 0.0077\n",
      "Epoch 14/100\n",
      "7/7 [==============================] - 1s 86ms/step - loss: 0.0019 - val_loss: 0.0077\n",
      "Epoch 15/100\n",
      "7/7 [==============================] - 1s 98ms/step - loss: 0.0019 - val_loss: 0.0077\n",
      "Epoch 16/100\n",
      "7/7 [==============================] - 1s 95ms/step - loss: 0.0018 - val_loss: 0.0077\n",
      "Epoch 17/100\n",
      "7/7 [==============================] - 1s 88ms/step - loss: 0.0018 - val_loss: 0.0079\n",
      "Epoch 18/100\n",
      "7/7 [==============================] - 1s 84ms/step - loss: 0.0017 - val_loss: 0.0080\n",
      "Epoch 19/100\n",
      "7/7 [==============================] - 1s 83ms/step - loss: 0.0018 - val_loss: 0.0081\n",
      "Epoch 20/100\n",
      "7/7 [==============================] - 1s 92ms/step - loss: 0.0017 - val_loss: 0.0078\n",
      "Epoch 21/100\n",
      "7/7 [==============================] - 1s 80ms/step - loss: 0.0016 - val_loss: 0.0078\n",
      "Epoch 22/100\n",
      "7/7 [==============================] - 1s 82ms/step - loss: 0.0016 - val_loss: 0.0076\n",
      "Epoch 23/100\n",
      "7/7 [==============================] - 1s 85ms/step - loss: 0.0015 - val_loss: 0.0078\n",
      "Epoch 24/100\n",
      "7/7 [==============================] - 1s 88ms/step - loss: 0.0015 - val_loss: 0.0087\n",
      "Epoch 25/100\n",
      "7/7 [==============================] - 1s 89ms/step - loss: 0.0015 - val_loss: 0.0079\n",
      "Epoch 26/100\n",
      "7/7 [==============================] - 1s 90ms/step - loss: 0.0014 - val_loss: 0.0110\n",
      "Epoch 27/100\n",
      "7/7 [==============================] - 1s 86ms/step - loss: 0.0015 - val_loss: 0.0127\n",
      "Epoch 28/100\n",
      "7/7 [==============================] - 1s 88ms/step - loss: 0.0015 - val_loss: 0.0094\n",
      "Epoch 29/100\n",
      "7/7 [==============================] - 1s 87ms/step - loss: 0.0013 - val_loss: 0.0115\n",
      "Epoch 30/100\n",
      "7/7 [==============================] - 1s 81ms/step - loss: 0.0013 - val_loss: 0.0101\n",
      "Epoch 31/100\n",
      "7/7 [==============================] - 1s 84ms/step - loss: 0.0013 - val_loss: 0.0078\n",
      "Epoch 32/100\n",
      "7/7 [==============================] - 1s 80ms/step - loss: 0.0013 - val_loss: 0.0076\n",
      "Epoch 33/100\n",
      "7/7 [==============================] - 1s 85ms/step - loss: 0.0013 - val_loss: 0.0059\n",
      "Epoch 34/100\n",
      "7/7 [==============================] - 1s 81ms/step - loss: 0.0012 - val_loss: 0.0079\n",
      "Epoch 35/100\n",
      "7/7 [==============================] - 1s 82ms/step - loss: 0.0012 - val_loss: 0.0108\n",
      "Epoch 36/100\n",
      "7/7 [==============================] - 1s 83ms/step - loss: 0.0012 - val_loss: 0.0095\n",
      "Epoch 37/100\n",
      "7/7 [==============================] - 1s 81ms/step - loss: 0.0011 - val_loss: 0.0127\n",
      "Epoch 38/100\n",
      "7/7 [==============================] - 1s 80ms/step - loss: 0.0012 - val_loss: 0.0137\n",
      "Epoch 39/100\n",
      "7/7 [==============================] - 1s 91ms/step - loss: 0.0013 - val_loss: 0.0129\n",
      "Epoch 40/100\n",
      "7/7 [==============================] - 1s 85ms/step - loss: 0.0011 - val_loss: 0.0082\n",
      "Epoch 41/100\n",
      "7/7 [==============================] - 1s 98ms/step - loss: 0.0010 - val_loss: 0.0160\n",
      "Epoch 42/100\n",
      "7/7 [==============================] - 1s 86ms/step - loss: 0.0011 - val_loss: 0.0121\n",
      "Epoch 43/100\n",
      "7/7 [==============================] - 1s 86ms/step - loss: 0.0012 - val_loss: 0.0089\n",
      "Epoch 44/100\n",
      "7/7 [==============================] - 1s 84ms/step - loss: 0.0012 - val_loss: 0.0093\n",
      "Epoch 45/100\n",
      "7/7 [==============================] - 1s 116ms/step - loss: 0.0010 - val_loss: 0.0071\n",
      "Epoch 46/100\n",
      "7/7 [==============================] - 1s 118ms/step - loss: 0.0010 - val_loss: 0.0075\n",
      "Epoch 47/100\n",
      "7/7 [==============================] - 1s 150ms/step - loss: 0.0010 - val_loss: 0.0128\n",
      "Epoch 48/100\n",
      "7/7 [==============================] - 1s 147ms/step - loss: 0.0011 - val_loss: 0.0097\n",
      "Epoch 49/100\n",
      "7/7 [==============================] - 1s 105ms/step - loss: 9.9462e-04 - val_loss: 0.0061\n",
      "Epoch 50/100\n",
      "7/7 [==============================] - 1s 81ms/step - loss: 0.0010 - val_loss: 0.0074\n",
      "Epoch 51/100\n",
      "7/7 [==============================] - 1s 97ms/step - loss: 0.0011 - val_loss: 0.0137\n",
      "Epoch 52/100\n",
      "7/7 [==============================] - 1s 84ms/step - loss: 0.0010 - val_loss: 0.0139\n",
      "Epoch 53/100\n",
      "7/7 [==============================] - 1s 86ms/step - loss: 0.0010 - val_loss: 0.0107\n",
      "Epoch 54/100\n",
      "7/7 [==============================] - 1s 84ms/step - loss: 9.8613e-04 - val_loss: 0.0097\n",
      "Epoch 55/100\n",
      "7/7 [==============================] - 1s 81ms/step - loss: 9.5778e-04 - val_loss: 0.0101\n",
      "Epoch 56/100\n",
      "7/7 [==============================] - 1s 82ms/step - loss: 9.8679e-04 - val_loss: 0.0106\n",
      "Epoch 57/100\n",
      "7/7 [==============================] - 1s 108ms/step - loss: 9.3880e-04 - val_loss: 0.0107\n",
      "Epoch 58/100\n",
      "7/7 [==============================] - 1s 111ms/step - loss: 9.2278e-04 - val_loss: 0.0087\n",
      "Epoch 59/100\n",
      "7/7 [==============================] - 1s 129ms/step - loss: 9.6225e-04 - val_loss: 0.0065\n",
      "Epoch 60/100\n",
      "7/7 [==============================] - 1s 155ms/step - loss: 9.6514e-04 - val_loss: 0.0093\n",
      "Epoch 61/100\n",
      "7/7 [==============================] - 1s 117ms/step - loss: 8.9232e-04 - val_loss: 0.0083\n",
      "Epoch 62/100\n",
      "7/7 [==============================] - 1s 142ms/step - loss: 8.9265e-04 - val_loss: 0.0072\n",
      "Epoch 63/100\n",
      "7/7 [==============================] - 1s 90ms/step - loss: 9.3121e-04 - val_loss: 0.0084\n",
      "Epoch 64/100\n",
      "7/7 [==============================] - 1s 80ms/step - loss: 9.5837e-04 - val_loss: 0.0109\n",
      "Epoch 65/100\n",
      "7/7 [==============================] - 1s 92ms/step - loss: 9.8629e-04 - val_loss: 0.0086\n",
      "Epoch 66/100\n",
      "7/7 [==============================] - 1s 84ms/step - loss: 8.5656e-04 - val_loss: 0.0080\n",
      "Epoch 67/100\n",
      "7/7 [==============================] - 1s 78ms/step - loss: 8.6548e-04 - val_loss: 0.0133\n",
      "Epoch 68/100\n",
      "7/7 [==============================] - 1s 76ms/step - loss: 9.1890e-04 - val_loss: 0.0116\n",
      "Epoch 69/100\n",
      "7/7 [==============================] - 1s 77ms/step - loss: 8.9714e-04 - val_loss: 0.0132\n",
      "Epoch 70/100\n",
      "7/7 [==============================] - 1s 74ms/step - loss: 9.8720e-04 - val_loss: 0.0097\n",
      "Epoch 71/100\n",
      "7/7 [==============================] - 1s 75ms/step - loss: 8.4386e-04 - val_loss: 0.0090\n",
      "Epoch 72/100\n",
      "7/7 [==============================] - 1s 77ms/step - loss: 8.4688e-04 - val_loss: 0.0069\n",
      "Epoch 73/100\n",
      "7/7 [==============================] - 1s 75ms/step - loss: 8.9607e-04 - val_loss: 0.0066\n",
      "Epoch 74/100\n",
      "7/7 [==============================] - 1s 81ms/step - loss: 9.7691e-04 - val_loss: 0.0063\n",
      "Epoch 75/100\n",
      "7/7 [==============================] - 1s 77ms/step - loss: 8.6660e-04 - val_loss: 0.0060\n",
      "Epoch 76/100\n",
      "7/7 [==============================] - 1s 77ms/step - loss: 9.6514e-04 - val_loss: 0.0098\n",
      "Epoch 77/100\n",
      "7/7 [==============================] - 1s 74ms/step - loss: 8.4077e-04 - val_loss: 0.0117\n",
      "Epoch 78/100\n",
      "7/7 [==============================] - 1s 81ms/step - loss: 8.6524e-04 - val_loss: 0.0080\n",
      "Epoch 79/100\n",
      "7/7 [==============================] - 1s 74ms/step - loss: 8.1681e-04 - val_loss: 0.0075\n",
      "Epoch 80/100\n",
      "7/7 [==============================] - 1s 79ms/step - loss: 7.9320e-04 - val_loss: 0.0084\n",
      "Epoch 81/100\n",
      "7/7 [==============================] - 1s 76ms/step - loss: 7.9517e-04 - val_loss: 0.0073\n",
      "Epoch 82/100\n",
      "7/7 [==============================] - 1s 77ms/step - loss: 7.8213e-04 - val_loss: 0.0110\n",
      "Epoch 83/100\n",
      "7/7 [==============================] - 1s 78ms/step - loss: 8.3592e-04 - val_loss: 0.0084\n",
      "Epoch 84/100\n",
      "7/7 [==============================] - 1s 80ms/step - loss: 8.5949e-04 - val_loss: 0.0061\n",
      "Epoch 85/100\n",
      "7/7 [==============================] - 1s 75ms/step - loss: 7.9675e-04 - val_loss: 0.0067\n",
      "Epoch 86/100\n",
      "7/7 [==============================] - 1s 76ms/step - loss: 8.0077e-04 - val_loss: 0.0061\n",
      "Epoch 87/100\n",
      "7/7 [==============================] - 1s 76ms/step - loss: 7.6858e-04 - val_loss: 0.0071\n",
      "Epoch 88/100\n",
      "7/7 [==============================] - 1s 74ms/step - loss: 8.4454e-04 - val_loss: 0.0089\n",
      "Epoch 89/100\n",
      "7/7 [==============================] - 1s 76ms/step - loss: 7.9641e-04 - val_loss: 0.0093\n",
      "Epoch 90/100\n",
      "7/7 [==============================] - 1s 74ms/step - loss: 7.4801e-04 - val_loss: 0.0073\n",
      "Epoch 91/100\n",
      "7/7 [==============================] - 1s 77ms/step - loss: 7.4330e-04 - val_loss: 0.0086\n",
      "Epoch 92/100\n",
      "7/7 [==============================] - 1s 76ms/step - loss: 7.6690e-04 - val_loss: 0.0074\n",
      "Epoch 93/100\n",
      "7/7 [==============================] - 1s 80ms/step - loss: 7.3592e-04 - val_loss: 0.0064\n",
      "Epoch 94/100\n",
      "7/7 [==============================] - 1s 77ms/step - loss: 7.2265e-04 - val_loss: 0.0070\n",
      "Epoch 95/100\n",
      "7/7 [==============================] - 1s 82ms/step - loss: 7.5028e-04 - val_loss: 0.0050\n",
      "Epoch 96/100\n",
      "7/7 [==============================] - 1s 78ms/step - loss: 7.6662e-04 - val_loss: 0.0064\n",
      "Epoch 97/100\n",
      "7/7 [==============================] - 1s 84ms/step - loss: 7.7187e-04 - val_loss: 0.0075\n",
      "Epoch 98/100\n",
      "7/7 [==============================] - 1s 81ms/step - loss: 7.3070e-04 - val_loss: 0.0057\n",
      "Epoch 99/100\n",
      "7/7 [==============================] - 1s 90ms/step - loss: 7.0197e-04 - val_loss: 0.0063\n",
      "Epoch 100/100\n",
      "7/7 [==============================] - 1s 185ms/step - loss: 7.0712e-04 - val_loss: 0.0068\n"
     ]
    },
    {
     "data": {
      "text/plain": [
       "<keras.callbacks.History at 0x1cecbe596d0>"
      ]
     },
     "execution_count": 19,
     "metadata": {},
     "output_type": "execute_result"
    }
   ],
   "source": [
    "model.fit(x_train, y_train, epochs = 100, validation_data = (x_test, y_test), batch_size = 64, verbose = 1)"
   ]
  },
  {
   "cell_type": "code",
   "execution_count": 20,
   "id": "d1311f80",
   "metadata": {},
   "outputs": [
    {
     "name": "stdout",
     "output_type": "stream",
     "text": [
      "13/13 [==============================] - 3s 18ms/step\n",
      "5/5 [==============================] - 0s 21ms/step\n"
     ]
    }
   ],
   "source": [
    "train_predict = model.predict(x_train)\n",
    "test_predict = model.predict(x_test)"
   ]
  },
  {
   "cell_type": "code",
   "execution_count": 22,
   "id": "8e0d3c2a",
   "metadata": {},
   "outputs": [
    {
     "data": {
      "text/plain": [
       "array([[ 718.18787],\n",
       "       [ 721.9898 ],\n",
       "       [ 723.2579 ],\n",
       "       [ 723.60693],\n",
       "       [ 723.19543],\n",
       "       [ 719.8187 ],\n",
       "       [ 712.2521 ],\n",
       "       [ 703.4708 ],\n",
       "       [ 693.91345],\n",
       "       [ 685.2273 ],\n",
       "       [ 680.24695],\n",
       "       [ 679.4149 ],\n",
       "       [ 682.1894 ],\n",
       "       [ 686.57635],\n",
       "       [ 692.15063],\n",
       "       [ 699.5088 ],\n",
       "       [ 708.20746],\n",
       "       [ 717.0825 ],\n",
       "       [ 724.9575 ],\n",
       "       [ 731.1995 ],\n",
       "       [ 737.0376 ],\n",
       "       [ 742.4889 ],\n",
       "       [ 747.29236],\n",
       "       [ 749.5701 ],\n",
       "       [ 749.76416],\n",
       "       [ 748.4535 ],\n",
       "       [ 747.1455 ],\n",
       "       [ 746.36975],\n",
       "       [ 746.37714],\n",
       "       [ 744.59076],\n",
       "       [ 741.62195],\n",
       "       [ 739.0502 ],\n",
       "       [ 737.49744],\n",
       "       [ 738.7133 ],\n",
       "       [ 743.7773 ],\n",
       "       [ 750.52454],\n",
       "       [ 757.75446],\n",
       "       [ 763.8338 ],\n",
       "       [ 768.0633 ],\n",
       "       [ 770.80273],\n",
       "       [ 772.1484 ],\n",
       "       [ 772.5326 ],\n",
       "       [ 773.1399 ],\n",
       "       [ 773.4325 ],\n",
       "       [ 773.8435 ],\n",
       "       [ 775.50525],\n",
       "       [ 778.6669 ],\n",
       "       [ 783.358  ],\n",
       "       [ 790.9028 ],\n",
       "       [ 802.61914],\n",
       "       [ 816.30676],\n",
       "       [ 829.8768 ],\n",
       "       [ 844.0326 ],\n",
       "       [ 858.83057],\n",
       "       [ 883.50775],\n",
       "       [ 915.1827 ],\n",
       "       [ 950.6514 ],\n",
       "       [ 988.4798 ],\n",
       "       [1027.4674 ],\n",
       "       [1072.7745 ],\n",
       "       [1115.0507 ],\n",
       "       [1152.5093 ],\n",
       "       [1182.6194 ],\n",
       "       [1201.5253 ],\n",
       "       [1201.4596 ],\n",
       "       [1169.1653 ],\n",
       "       [1117.8538 ],\n",
       "       [1058.9548 ],\n",
       "       [ 999.18994],\n",
       "       [ 943.67706],\n",
       "       [ 901.5585 ],\n",
       "       [ 878.3789 ],\n",
       "       [ 873.3562 ],\n",
       "       [ 886.43207],\n",
       "       [ 913.9171 ],\n",
       "       [ 943.9085 ],\n",
       "       [ 971.0678 ],\n",
       "       [ 988.55096],\n",
       "       [1001.59436],\n",
       "       [1012.0503 ],\n",
       "       [1014.91956],\n",
       "       [1009.82556],\n",
       "       [ 991.7764 ],\n",
       "       [ 964.296  ],\n",
       "       [ 937.6467 ],\n",
       "       [ 918.0609 ],\n",
       "       [ 900.61206],\n",
       "       [ 886.98706],\n",
       "       [ 872.70667],\n",
       "       [ 857.893  ],\n",
       "       [ 845.8412 ],\n",
       "       [ 833.33575],\n",
       "       [ 821.9988 ],\n",
       "       [ 810.1078 ],\n",
       "       [ 802.64056],\n",
       "       [ 807.2521 ],\n",
       "       [ 828.64026],\n",
       "       [ 865.1732 ],\n",
       "       [ 909.4237 ],\n",
       "       [ 953.57684],\n",
       "       [ 989.892  ],\n",
       "       [1013.3918 ],\n",
       "       [1038.7972 ],\n",
       "       [1060.892  ],\n",
       "       [1070.6976 ],\n",
       "       [1065.3186 ],\n",
       "       [1044.0039 ],\n",
       "       [1015.6995 ],\n",
       "       [ 987.26794],\n",
       "       [ 967.12897],\n",
       "       [ 948.87787],\n",
       "       [ 934.2781 ],\n",
       "       [ 921.6965 ],\n",
       "       [ 907.90076],\n",
       "       [ 893.92004],\n",
       "       [ 876.1206 ],\n",
       "       [ 855.26965],\n",
       "       [ 833.4288 ],\n",
       "       [ 815.4721 ],\n",
       "       [ 793.3093 ],\n",
       "       [ 770.62   ],\n",
       "       [ 758.8402 ],\n",
       "       [ 758.8591 ],\n",
       "       [ 766.3744 ],\n",
       "       [ 777.07654],\n",
       "       [ 791.5327 ],\n",
       "       [ 806.46173],\n",
       "       [ 821.47034],\n",
       "       [ 836.33057],\n",
       "       [ 847.431  ],\n",
       "       [ 849.9179 ],\n",
       "       [ 846.23047],\n",
       "       [ 843.38275],\n",
       "       [ 843.13684],\n",
       "       [ 841.20544],\n",
       "       [ 835.5369 ],\n",
       "       [ 823.72894],\n",
       "       [ 802.7706 ],\n",
       "       [ 779.6128 ],\n",
       "       [ 759.34326],\n",
       "       [ 749.723  ],\n",
       "       [ 750.57855],\n",
       "       [ 760.948  ],\n",
       "       [ 773.9096 ],\n",
       "       [ 786.07574],\n",
       "       [ 792.67883],\n",
       "       [ 795.2529 ],\n",
       "       [ 798.0669 ],\n",
       "       [ 800.24225],\n",
       "       [ 797.96906],\n",
       "       [ 789.21173],\n",
       "       [ 778.9701 ],\n",
       "       [ 772.97437],\n",
       "       [ 775.0158 ],\n",
       "       [ 787.12604],\n",
       "       [ 807.9649 ],\n",
       "       [ 840.1403 ],\n",
       "       [ 879.37726]], dtype=float32)"
      ]
     },
     "execution_count": 22,
     "metadata": {},
     "output_type": "execute_result"
    }
   ],
   "source": [
    "train_predict=scaler.inverse_transform(train_predict)\n",
    "test_predict=scaler.inverse_transform(test_predict)\n",
    "test_predict"
   ]
  },
  {
   "cell_type": "code",
   "execution_count": 23,
   "id": "5d589df6",
   "metadata": {},
   "outputs": [
    {
     "data": {
      "text/plain": [
       "854.9040681600152"
      ]
     },
     "execution_count": 23,
     "metadata": {},
     "output_type": "execute_result"
    }
   ],
   "source": [
    "math.sqrt(mean_squared_error(y_test, test_predict))"
   ]
  },
  {
   "cell_type": "code",
   "execution_count": 26,
   "id": "14aadfa8",
   "metadata": {},
   "outputs": [
    {
     "data": {
      "text/plain": [
       "462.85552075013135"
      ]
     },
     "execution_count": 26,
     "metadata": {},
     "output_type": "execute_result"
    }
   ],
   "source": [
    "math.sqrt(mean_squared_error(y_train, train_predict))"
   ]
  },
  {
   "cell_type": "code",
   "execution_count": 24,
   "id": "c476b5e2",
   "metadata": {},
   "outputs": [
    {
     "data": {
      "image/png": "[encoded data removed]",
      "text/plain": [
       "<Figure size 432x288 with 1 Axes>"
      ]
     },
     "metadata": {
      "needs_background": "light"
     },
     "output_type": "display_data"
    }
   ],
   "source": [
    "### Plotting \n",
    "# shift train predictions for plotting\n",
    "look_back=30\n",
    "trainPredictPlot = np.empty_like(df_use)\n",
    "trainPredictPlot[:, :] = np.nan\n",
    "trainPredictPlot[look_back:len(train_predict)+look_back, :] = train_predict\n",
    "# shift test predictions for plotting\n",
    "testPredictPlot = np.empty_like(df_use)\n",
    "testPredictPlot[:, :] = np.nan\n",
    "testPredictPlot[len(train_predict)+(look_back*2)+1:len(df_use)-1, :] = test_predict\n",
    "# plot baseline and predictions\n",
    "plt.plot(scaler.inverse_transform(df_use))\n",
    "plt.plot(trainPredictPlot)\n",
    "plt.plot(testPredictPlot)\n",
    "plt.legend(['origin','train', 'valid'])\n",
    "plt.show()"
   ]
  },
  {
   "cell_type": "code",
   "execution_count": 27,
   "id": "a3c6654e",
   "metadata": {},
   "outputs": [
    {
     "name": "stdout",
     "output_type": "stream",
     "text": [
      "1/1 [==============================] - 2s 2s/step\n"
     ]
    },
    {
     "data": {
      "text/plain": [
       "array([[0.6027733 ],\n",
       "       [0.60267705],\n",
       "       [0.6027464 ],\n",
       "       [0.60295516],\n",
       "       [0.60286516],\n",
       "       [0.60213876],\n",
       "       [0.60278064],\n",
       "       [0.60338277],\n",
       "       [0.60322493],\n",
       "       [0.6036711 ],\n",
       "       [0.6044311 ]], dtype=float32)"
      ]
     },
     "execution_count": 27,
     "metadata": {},
     "output_type": "execute_result"
    }
   ],
   "source": [
    "model.predict(df2['Close'])"
   ]
  },
  {
   "cell_type": "code",
   "execution_count": 28,
   "id": "a1a0a5a7",
   "metadata": {},
   "outputs": [
    {
     "data": {
      "text/plain": [
       "(1, 30)"
      ]
     },
     "execution_count": 28,
     "metadata": {},
     "output_type": "execute_result"
    }
   ],
   "source": [
    "x_input=test_data[len(test_data)-30:].reshape(1,-1)\n",
    "x_input.shape"
   ]
  },
  {
   "cell_type": "code",
   "execution_count": 29,
   "id": "db6258ae",
   "metadata": {},
   "outputs": [],
   "source": [
    "temp_input=list(x_input)\n",
    "temp_input=temp_input[0].tolist()"
   ]
  },
  {
   "cell_type": "code",
   "execution_count": 30,
   "id": "620fd03e",
   "metadata": {},
   "outputs": [
    {
     "name": "stdout",
     "output_type": "stream",
     "text": [
      "[0.7709887]\n",
      "31\n",
      "1 day input [0.70079179 0.74022153 0.74103262 0.70129023 0.68492524 0.6549749\n",
      " 0.60640369 0.63743554 0.64512377 0.69628866 0.69116879 0.70428108\n",
      " 0.66997962 0.66913476 0.64065446 0.65739965 0.68660651 0.66914321\n",
      " 0.63285634 0.60837223 0.63838178 0.67077379 0.69727714 0.72582508\n",
      " 0.73914854 0.80067146 0.80500561 0.81751803 0.8147469  0.7709887 ]\n",
      "1 day output [[0.7916058]]\n",
      "2 day input [0.74022153 0.74103262 0.70129023 0.68492524 0.6549749  0.60640369\n",
      " 0.63743554 0.64512377 0.69628866 0.69116879 0.70428108 0.66997962\n",
      " 0.66913476 0.64065446 0.65739965 0.68660651 0.66914321 0.63285634\n",
      " 0.60837223 0.63838178 0.67077379 0.69727714 0.72582508 0.73914854\n",
      " 0.80067146 0.80500561 0.81751803 0.8147469  0.7709887  0.79160577]\n",
      "2 day output [[0.80139536]]\n",
      "3 day input [0.74103262 0.70129023 0.68492524 0.6549749  0.60640369 0.63743554\n",
      " 0.64512377 0.69628866 0.69116879 0.70428108 0.66997962 0.66913476\n",
      " 0.64065446 0.65739965 0.68660651 0.66914321 0.63285634 0.60837223\n",
      " 0.63838178 0.67077379 0.69727714 0.72582508 0.73914854 0.80067146\n",
      " 0.80500561 0.81751803 0.8147469  0.7709887  0.79160577 0.80139536]\n",
      "3 day output [[0.8027238]]\n",
      "4 day input [0.70129023 0.68492524 0.6549749  0.60640369 0.63743554 0.64512377\n",
      " 0.69628866 0.69116879 0.70428108 0.66997962 0.66913476 0.64065446\n",
      " 0.65739965 0.68660651 0.66914321 0.63285634 0.60837223 0.63838178\n",
      " 0.67077379 0.69727714 0.72582508 0.73914854 0.80067146 0.80500561\n",
      " 0.81751803 0.8147469  0.7709887  0.79160577 0.80139536 0.80272382]\n",
      "4 day output [[0.7979754]]\n",
      "5 day input [0.68492524 0.6549749  0.60640369 0.63743554 0.64512377 0.69628866\n",
      " 0.69116879 0.70428108 0.66997962 0.66913476 0.64065446 0.65739965\n",
      " 0.68660651 0.66914321 0.63285634 0.60837223 0.63838178 0.67077379\n",
      " 0.69727714 0.72582508 0.73914854 0.80067146 0.80500561 0.81751803\n",
      " 0.8147469  0.7709887  0.79160577 0.80139536 0.80272382 0.79797542]\n",
      "5 day output [[0.7888983]]\n",
      "6 day input [0.6549749  0.60640369 0.63743554 0.64512377 0.69628866 0.69116879\n",
      " 0.70428108 0.66997962 0.66913476 0.64065446 0.65739965 0.68660651\n",
      " 0.66914321 0.63285634 0.60837223 0.63838178 0.67077379 0.69727714\n",
      " 0.72582508 0.73914854 0.80067146 0.80500561 0.81751803 0.8147469\n",
      " 0.7709887  0.79160577 0.80139536 0.80272382 0.79797542 0.78889829]\n",
      "6 day output [[0.7765791]]\n",
      "7 day input [0.60640369 0.63743554 0.64512377 0.69628866 0.69116879 0.70428108\n",
      " 0.66997962 0.66913476 0.64065446 0.65739965 0.68660651 0.66914321\n",
      " 0.63285634 0.60837223 0.63838178 0.67077379 0.69727714 0.72582508\n",
      " 0.73914854 0.80067146 0.80500561 0.81751803 0.8147469  0.7709887\n",
      " 0.79160577 0.80139536 0.80272382 0.79797542 0.78889829 0.77657908]\n",
      "7 day output [[0.7616179]]\n",
      "8 day input [0.63743554 0.64512377 0.69628866 0.69116879 0.70428108 0.66997962\n",
      " 0.66913476 0.64065446 0.65739965 0.68660651 0.66914321 0.63285634\n",
      " 0.60837223 0.63838178 0.67077379 0.69727714 0.72582508 0.73914854\n",
      " 0.80067146 0.80500561 0.81751803 0.8147469  0.7709887  0.79160577\n",
      " 0.80139536 0.80272382 0.79797542 0.78889829 0.77657908 0.7616179 ]\n",
      "8 day output [[0.74435145]]\n",
      "9 day input [0.64512377 0.69628866 0.69116879 0.70428108 0.66997962 0.66913476\n",
      " 0.64065446 0.65739965 0.68660651 0.66914321 0.63285634 0.60837223\n",
      " 0.63838178 0.67077379 0.69727714 0.72582508 0.73914854 0.80067146\n",
      " 0.80500561 0.81751803 0.8147469  0.7709887  0.79160577 0.80139536\n",
      " 0.80272382 0.79797542 0.78889829 0.77657908 0.7616179  0.74435145]\n",
      "9 day output [[0.7250631]]\n",
      "10 day input [0.69628866 0.69116879 0.70428108 0.66997962 0.66913476 0.64065446\n",
      " 0.65739965 0.68660651 0.66914321 0.63285634 0.60837223 0.63838178\n",
      " 0.67077379 0.69727714 0.72582508 0.73914854 0.80067146 0.80500561\n",
      " 0.81751803 0.8147469  0.7709887  0.79160577 0.80139536 0.80272382\n",
      " 0.79797542 0.78889829 0.77657908 0.7616179  0.74435145 0.72506309]\n",
      "10 day output [[0.7040138]]\n",
      "[[0.7709887027740479], [0.7916057705879211], [0.8013953566551208], [0.8027238249778748], [0.7979754209518433], [0.7888982892036438], [0.7765790820121765], [0.76161789894104], [0.7443514466285706], [0.7250630855560303], [0.7040138244628906]]\n"
     ]
    }
   ],
   "source": [
    "lst_output=[]\n",
    "n_steps=30\n",
    "i=0\n",
    "while(i<11):\n",
    "    \n",
    "    if(len(temp_input)>30):\n",
    "        #print(temp_input)\n",
    "        x_input=np.array(temp_input[1:])\n",
    "        print(\"{} day input {}\".format(i,x_input))\n",
    "        x_input=x_input.reshape(1,-1)\n",
    "        x_input = x_input.reshape((1, n_steps, 1))\n",
    "        #print(x_input)\n",
    "        yhat = model.predict(x_input, verbose=0)\n",
    "        print(\"{} day output {}\".format(i,yhat))\n",
    "        temp_input.extend(yhat[0].tolist())\n",
    "        temp_input=temp_input[1:]\n",
    "        #print(temp_input)\n",
    "        lst_output.extend(yhat.tolist())\n",
    "        i=i+1\n",
    "    else:\n",
    "        x_input = x_input.reshape((1, n_steps,1))\n",
    "        yhat = model.predict(x_input, verbose=0)\n",
    "        print(yhat[0])\n",
    "        temp_input.extend(yhat[0].tolist())\n",
    "        print(len(temp_input))\n",
    "        lst_output.extend(yhat.tolist())\n",
    "        i=i+1\n",
    "    \n",
    "\n",
    "print(lst_output)"
   ]
  },
  {
   "cell_type": "code",
   "execution_count": 31,
   "id": "7ee93e66",
   "metadata": {},
   "outputs": [
    {
     "data": {
      "text/plain": [
       "array([628, 629, 630, 631, 632, 633, 634, 635, 636, 637, 638])"
      ]
     },
     "execution_count": 31,
     "metadata": {},
     "output_type": "execute_result"
    }
   ],
   "source": [
    "day_new=np.arange(628 - 30, 628)\n",
    "day_pred=np.arange(628,628 + 11)\n",
    "day_pred"
   ]
  },
  {
   "cell_type": "code",
   "execution_count": 32,
   "id": "dc4a00c9",
   "metadata": {},
   "outputs": [
    {
     "data": {
      "text/plain": [
       "[<matplotlib.lines.Line2D at 0x1ced8171a90>]"
      ]
     },
     "execution_count": 32,
     "metadata": {},
     "output_type": "execute_result"
    },
    {
     "data": {
      "image/png": "[encoded data removed]",
      "text/plain": [
       "<Figure size 432x288 with 1 Axes>"
      ]
     },
     "metadata": {
      "needs_background": "light"
     },
     "output_type": "display_data"
    }
   ],
   "source": [
    "plt.plot(day_new,scaler.inverse_transform(df_use[628 - 30:]))\n",
    "plt.plot(day_pred,scaler.inverse_transform(lst_output))"
   ]
  },
  {
   "cell_type": "code",
   "execution_count": 35,
   "id": "9448025d",
   "metadata": {},
   "outputs": [
    {
     "data": {
      "text/plain": [
       "[<matplotlib.lines.Line2D at 0x1ced931c460>]"
      ]
     },
     "execution_count": 35,
     "metadata": {},
     "output_type": "execute_result"
    },
    {
     "data": {
      "image/png": "[encoded data removed]",
      "text/plain": [
       "<Figure size 432x288 with 1 Axes>"
      ]
     },
     "metadata": {
      "needs_background": "light"
     },
     "output_type": "display_data"
    }
   ],
   "source": [
    "df3=df_use.tolist()\n",
    "df3.extend(lst_output)\n",
    "plt.plot(df3[628:])"
   ]
  },
  {
   "cell_type": "code",
   "execution_count": 34,
   "id": "930c5b52",
   "metadata": {},
   "outputs": [
    {
     "data": {
      "text/plain": [
       "[<matplotlib.lines.Line2D at 0x1ced92b26a0>]"
      ]
     },
     "execution_count": 34,
     "metadata": {},
     "output_type": "execute_result"
    },
    {
     "data": {
      "image/png": "[encoded data removed]",
      "text/plain": [
       "<Figure size 432x288 with 1 Axes>"
      ]
     },
     "metadata": {
      "needs_background": "light"
     },
     "output_type": "display_data"
    }
   ],
   "source": [
    "plt.plot(df['Close'][-11:])"
   ]
  },
  {
   "cell_type": "code",
   "execution_count": 38,
   "id": "6465a88d",
   "metadata": {},
   "outputs": [
    {
     "data": {
      "text/html": [
       "<div>\n",
       "<style scoped>\n",
       "    .dataframe tbody tr th:only-of-type {\n",
       "        vertical-align: middle;\n",
       "    }\n",
       "\n",
       "    .dataframe tbody tr th {\n",
       "        vertical-align: top;\n",
       "    }\n",
       "\n",
       "    .dataframe thead th {\n",
       "        text-align: right;\n",
       "    }\n",
       "</style>\n",
       "<table border=\"1\" class=\"dataframe\">\n",
       "  <thead>\n",
       "    <tr style=\"text-align: right;\">\n",
       "      <th></th>\n",
       "      <th>Date</th>\n",
       "      <th>High</th>\n",
       "      <th>Low</th>\n",
       "      <th>Open</th>\n",
       "      <th>Close</th>\n",
       "      <th>Volume</th>\n",
       "      <th>Adj Close</th>\n",
       "    </tr>\n",
       "  </thead>\n",
       "  <tbody>\n",
       "    <tr>\n",
       "      <th>629</th>\n",
       "      <td>2022-03-29</td>\n",
       "      <td>1114.770020</td>\n",
       "      <td>1073.109985</td>\n",
       "      <td>1107.989990</td>\n",
       "      <td>1099.569946</td>\n",
       "      <td>24538300.0</td>\n",
       "      <td>1099.569946</td>\n",
       "    </tr>\n",
       "    <tr>\n",
       "      <th>630</th>\n",
       "      <td>2022-03-30</td>\n",
       "      <td>1113.949951</td>\n",
       "      <td>1084.000000</td>\n",
       "      <td>1091.170044</td>\n",
       "      <td>1093.989990</td>\n",
       "      <td>19955000.0</td>\n",
       "      <td>1093.989990</td>\n",
       "    </tr>\n",
       "    <tr>\n",
       "      <th>631</th>\n",
       "      <td>2022-03-31</td>\n",
       "      <td>1103.140015</td>\n",
       "      <td>1076.640015</td>\n",
       "      <td>1094.569946</td>\n",
       "      <td>1077.599976</td>\n",
       "      <td>16330900.0</td>\n",
       "      <td>1077.599976</td>\n",
       "    </tr>\n",
       "    <tr>\n",
       "      <th>632</th>\n",
       "      <td>2022-04-01</td>\n",
       "      <td>1094.750000</td>\n",
       "      <td>1066.640015</td>\n",
       "      <td>1081.150024</td>\n",
       "      <td>1084.589966</td>\n",
       "      <td>18012900.0</td>\n",
       "      <td>1084.589966</td>\n",
       "    </tr>\n",
       "    <tr>\n",
       "      <th>633</th>\n",
       "      <td>2022-04-04</td>\n",
       "      <td>1149.910034</td>\n",
       "      <td>1072.530029</td>\n",
       "      <td>1089.380005</td>\n",
       "      <td>1145.449951</td>\n",
       "      <td>27345300.0</td>\n",
       "      <td>1145.449951</td>\n",
       "    </tr>\n",
       "    <tr>\n",
       "      <th>634</th>\n",
       "      <td>2022-04-05</td>\n",
       "      <td>1152.869995</td>\n",
       "      <td>1087.300049</td>\n",
       "      <td>1136.300049</td>\n",
       "      <td>1091.260010</td>\n",
       "      <td>26691700.0</td>\n",
       "      <td>1091.260010</td>\n",
       "    </tr>\n",
       "    <tr>\n",
       "      <th>635</th>\n",
       "      <td>2022-04-06</td>\n",
       "      <td>1079.000000</td>\n",
       "      <td>1027.699951</td>\n",
       "      <td>1073.469971</td>\n",
       "      <td>1045.760010</td>\n",
       "      <td>29782800.0</td>\n",
       "      <td>1045.760010</td>\n",
       "    </tr>\n",
       "    <tr>\n",
       "      <th>636</th>\n",
       "      <td>2022-04-07</td>\n",
       "      <td>1076.589966</td>\n",
       "      <td>1021.539978</td>\n",
       "      <td>1052.390015</td>\n",
       "      <td>1057.260010</td>\n",
       "      <td>26482400.0</td>\n",
       "      <td>1057.260010</td>\n",
       "    </tr>\n",
       "    <tr>\n",
       "      <th>637</th>\n",
       "      <td>2022-04-08</td>\n",
       "      <td>1048.439941</td>\n",
       "      <td>1022.440002</td>\n",
       "      <td>1043.209961</td>\n",
       "      <td>1025.489990</td>\n",
       "      <td>18293300.0</td>\n",
       "      <td>1025.489990</td>\n",
       "    </tr>\n",
       "    <tr>\n",
       "      <th>638</th>\n",
       "      <td>2022-04-11</td>\n",
       "      <td>1008.469971</td>\n",
       "      <td>974.640015</td>\n",
       "      <td>980.400024</td>\n",
       "      <td>975.929993</td>\n",
       "      <td>19660500.0</td>\n",
       "      <td>975.929993</td>\n",
       "    </tr>\n",
       "  </tbody>\n",
       "</table>\n",
       "</div>"
      ],
      "text/plain": [
       "           Date         High          Low         Open        Close  \\\n",
       "629  2022-03-29  1114.770020  1073.109985  1107.989990  1099.569946   \n",
       "630  2022-03-30  1113.949951  1084.000000  1091.170044  1093.989990   \n",
       "631  2022-03-31  1103.140015  1076.640015  1094.569946  1077.599976   \n",
       "632  2022-04-01  1094.750000  1066.640015  1081.150024  1084.589966   \n",
       "633  2022-04-04  1149.910034  1072.530029  1089.380005  1145.449951   \n",
       "634  2022-04-05  1152.869995  1087.300049  1136.300049  1091.260010   \n",
       "635  2022-04-06  1079.000000  1027.699951  1073.469971  1045.760010   \n",
       "636  2022-04-07  1076.589966  1021.539978  1052.390015  1057.260010   \n",
       "637  2022-04-08  1048.439941  1022.440002  1043.209961  1025.489990   \n",
       "638  2022-04-11  1008.469971   974.640015   980.400024   975.929993   \n",
       "\n",
       "         Volume    Adj Close  \n",
       "629  24538300.0  1099.569946  \n",
       "630  19955000.0  1093.989990  \n",
       "631  16330900.0  1077.599976  \n",
       "632  18012900.0  1084.589966  \n",
       "633  27345300.0  1145.449951  \n",
       "634  26691700.0  1091.260010  \n",
       "635  29782800.0  1045.760010  \n",
       "636  26482400.0  1057.260010  \n",
       "637  18293300.0  1025.489990  \n",
       "638  19660500.0   975.929993  "
      ]
     },
     "execution_count": 38,
     "metadata": {},
     "output_type": "execute_result"
    }
   ],
   "source": [
    "df[629:]"
   ]
  },
  {
   "cell_type": "code",
   "execution_count": null,
   "id": "9cb0a573",
   "metadata": {},
   "outputs": [],
   "source": []
  }
 ],
 "metadata": {
  "kernelspec": {
   "display_name": "Python 3 (ipykernel)",
   "language": "python",
   "name": "python3"
  },
  "language_info": {
   "codemirror_mode": {
    "name": "ipython",
    "version": 3
   },
   "file_extension": ".py",
   "mimetype": "text/x-python",
   "name": "python",
   "nbconvert_exporter": "python",
   "pygments_lexer": "ipython3",
   "version": "3.11.4"
  }
 },
 "nbformat": 4,
 "nbformat_minor": 5
}
